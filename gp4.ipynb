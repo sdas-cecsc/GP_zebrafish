{
 "cells": [
  {
   "cell_type": "code",
   "execution_count": 1,
   "metadata": {
    "collapsed": true
   },
   "outputs": [],
   "source": [
    "import numpy as np\n",
    "from scipy import ndimage\n",
    "from sklearn import preprocessing\n",
    "from sklearn import decomposition\n",
    "from sklearn import gaussian_process\n",
    "from sklearn.cross_validation import cross_val_score, KFold, train_test_split\n",
    "import matplotlib.pyplot as plt\n",
    "import matplotlib.cm as cm"
   ]
  },
  {
   "cell_type": "code",
   "execution_count": 2,
   "metadata": {
    "collapsed": false
   },
   "outputs": [],
   "source": [
    "num_images = 319\n",
    "images = np.empty([1,20000])"
   ]
  },
  {
   "cell_type": "code",
   "execution_count": 3,
   "metadata": {
    "collapsed": false
   },
   "outputs": [
    {
     "name": "stdout",
     "output_type": "stream",
     "text": [
      "(319, 20000)\n",
      "0.0\n",
      "255.0\n"
     ]
    }
   ],
   "source": [
    "for i in range(1,num_images+1):\n",
    "    filename = \"gray_images_all/image\" + str(i) + \".jpg\"\n",
    "    img = ndimage.imread(filename)\n",
    "    if (i == 1):\n",
    "        images = img.flatten()\n",
    "    else:\n",
    "        images = np.vstack((images, img.flatten()))\n",
    "        \n",
    "images = images.astype(float)\n",
    "print images.shape\n",
    "print images.min()\n",
    "print images.max()"
   ]
  },
  {
   "cell_type": "code",
   "execution_count": 4,
   "metadata": {
    "collapsed": false
   },
   "outputs": [
    {
     "name": "stdout",
     "output_type": "stream",
     "text": [
      "(319, 20000)\n",
      "-17.8325545001\n",
      "17.8325545001\n"
     ]
    }
   ],
   "source": [
    "scaler = preprocessing.StandardScaler().fit(images)\n",
    "images_scaled = scaler.transform(images)\n",
    "print images_scaled.shape\n",
    "print images_scaled.min()\n",
    "print images_scaled.max()"
   ]
  },
  {
   "cell_type": "code",
   "execution_count": 5,
   "metadata": {
    "collapsed": false
   },
   "outputs": [],
   "source": [
    "thresh_components = 10\n",
    "n_components = thresh_components\n",
    "while(True):\n",
    "    pca0 = decomposition.PCA(n_components=n_components)\n",
    "    pca0.fit(images_scaled)\n",
    "    if pca0.explained_variance_ratio_.sum() > 0.9:\n",
    "        break\n",
    "    n_components += thresh_components"
   ]
  },
  {
   "cell_type": "code",
   "execution_count": 6,
   "metadata": {
    "collapsed": false
   },
   "outputs": [
    {
     "name": "stdout",
     "output_type": "stream",
     "text": [
      "(319, 100)\n",
      "-102.788361097\n",
      "202.391869066\n"
     ]
    }
   ],
   "source": [
    "pca = decomposition.PCA(n_components=n_components)\n",
    "pca.fit(images_scaled)\n",
    "data = pca.transform(images_scaled)\n",
    "print data.shape\n",
    "print data.min()\n",
    "print data.max()"
   ]
  },
  {
   "cell_type": "code",
   "execution_count": 7,
   "metadata": {
    "collapsed": false
   },
   "outputs": [
    {
     "name": "stdout",
     "output_type": "stream",
     "text": [
      "100\n",
      "0.902236779604\n"
     ]
    }
   ],
   "source": [
    "print n_components\n",
    "print pca.explained_variance_ratio_.sum()"
   ]
  },
  {
   "cell_type": "code",
   "execution_count": 8,
   "metadata": {
    "collapsed": true
   },
   "outputs": [],
   "source": [
    "for i in range(len(data)-2):\n",
    "    newrow = np.hstack((data[i], data[i+1]))\n",
    "    if (i == 0):\n",
    "        X = newrow\n",
    "    else:\n",
    "        X = np.vstack((X, newrow))"
   ]
  },
  {
   "cell_type": "code",
   "execution_count": 9,
   "metadata": {
    "collapsed": false
   },
   "outputs": [
    {
     "name": "stdout",
     "output_type": "stream",
     "text": [
      "(317, 200)\n",
      "(317, 100)\n"
     ]
    }
   ],
   "source": [
    "print X.shape\n",
    "ylist = []\n",
    "for i in range(2,len(data)):\n",
    "    ylist.append(data[i])\n",
    "y = np.asarray(ylist)\n",
    "print y.shape"
   ]
  },
  {
   "cell_type": "code",
   "execution_count": 10,
   "metadata": {
    "collapsed": false
   },
   "outputs": [
    {
     "name": "stdout",
     "output_type": "stream",
     "text": [
      "(190, 200)\n",
      "(190, 100)\n",
      "(127, 200)\n",
      "(127, 100)\n"
     ]
    }
   ],
   "source": [
    "X_train, X_test, y_train, y_test = train_test_split(X, y, test_size=0.4,random_state=0)\n",
    "print X_train.shape\n",
    "print y_train.shape\n",
    "print X_test.shape\n",
    "print y_test.shape"
   ]
  },
  {
   "cell_type": "code",
   "execution_count": 11,
   "metadata": {
    "collapsed": false
   },
   "outputs": [
    {
     "data": {
      "text/plain": [
       "GaussianProcess(beta0=None,\n",
       "        corr=<function squared_exponential at 0x7f4ca1f76a28>,\n",
       "        normalize=True, nugget=array(2.220446049250313e-15),\n",
       "        optimizer='fmin_cobyla', random_start=1,\n",
       "        random_state=<mtrand.RandomState object at 0x7f4cb023e890>,\n",
       "        regr=<function constant at 0x7f4ca1f76668>, storage_mode='full',\n",
       "        theta0=array([[ 0.01]]), thetaL=array([[ 0.0001]]),\n",
       "        thetaU=array([[ 0.1]]), verbose=False)"
      ]
     },
     "execution_count": 11,
     "metadata": {},
     "output_type": "execute_result"
    }
   ],
   "source": [
    "gp = gaussian_process.GaussianProcess(theta0=1e-2, thetaL=1e-4, thetaU=1e-1)\n",
    "gp.fit(X_train, y_train)"
   ]
  },
  {
   "cell_type": "code",
   "execution_count": 12,
   "metadata": {
    "collapsed": false
   },
   "outputs": [
    {
     "name": "stdout",
     "output_type": "stream",
     "text": [
      "(200,)\n",
      "(100,)\n"
     ]
    }
   ],
   "source": [
    "print X_test[0].shape\n",
    "print X_test[0][:pca.n_components_].shape"
   ]
  },
  {
   "cell_type": "code",
   "execution_count": 13,
   "metadata": {
    "collapsed": false
   },
   "outputs": [
    {
     "name": "stdout",
     "output_type": "stream",
     "text": [
      "(125, 100)\n",
      "125\n",
      "(127, 100)\n"
     ]
    }
   ],
   "source": [
    "mse = []\n",
    "y_pred_list=[]\n",
    "\n",
    "for i in range(len(X_test)-2):\n",
    "    if(i == 0):\n",
    "        X_test_sample = X_test[0]\n",
    "    else:\n",
    "        X_test_sample = np.hstack((X_test[i][:pca.n_components_], y_test_pred[0]))\n",
    "    y_test_pred, mse_pred = gp.predict(X_test_sample, eval_MSE=True)\n",
    "    y_pred_list.append(y_test_pred[0])\n",
    "    mse.append(mse_pred)\n",
    "\n",
    "y_pred = np.asarray(y_pred_list)\n",
    "y_pred_size = y_pred.shape[0]\n",
    "y_test_size = y_test.shape[0]\n",
    "print y_pred.shape\n",
    "print len(mse)\n",
    "print y_test.shape"
   ]
  },
  {
   "cell_type": "code",
   "execution_count": 14,
   "metadata": {
    "collapsed": false
   },
   "outputs": [
    {
     "name": "stdout",
     "output_type": "stream",
     "text": [
      "(125, 20000)\n",
      "(127, 20000)\n"
     ]
    }
   ],
   "source": [
    "inv_y_pred = pca.inverse_transform(y_pred)\n",
    "print inv_y_pred.shape\n",
    "inv_y_test = pca.inverse_transform(y_test)\n",
    "print inv_y_test.shape"
   ]
  },
  {
   "cell_type": "code",
   "execution_count": 15,
   "metadata": {
    "collapsed": false
   },
   "outputs": [
    {
     "name": "stdout",
     "output_type": "stream",
     "text": [
      "(125, 20000)\n",
      "(125, 20000)\n"
     ]
    }
   ],
   "source": [
    "original_y_pred = scaler.inverse_transform(inv_y_pred)\n",
    "original_y_test = scaler.inverse_transform(inv_y_test[2:y_test_size])\n",
    "print original_y_pred.shape\n",
    "print original_y_test.shape"
   ]
  },
  {
   "cell_type": "code",
   "execution_count": 16,
   "metadata": {
    "collapsed": false
   },
   "outputs": [
    {
     "name": "stdout",
     "output_type": "stream",
     "text": [
      "inverted : -0.956429197413 1.11501173434\n",
      "original : -0.0951052265815 253.687595839\n"
     ]
    }
   ],
   "source": [
    "print 'inverted :', inv_y_pred[0].min(), inv_y_pred[0].max()\n",
    "print 'original :', original_y_pred[0].min(), original_y_pred[0].max()"
   ]
  },
  {
   "cell_type": "code",
   "execution_count": 17,
   "metadata": {
    "collapsed": false
   },
   "outputs": [],
   "source": [
    "pred_image = original_y_pred.reshape((y_pred_size, 100, 200))\n",
    "original_image = original_y_test.reshape((y_pred_size, 100, 200))"
   ]
  },
  {
   "cell_type": "code",
   "execution_count": 18,
   "metadata": {
    "collapsed": false
   },
   "outputs": [
    {
     "name": "stdout",
     "output_type": "stream",
     "text": [
      "(100, 200)\n",
      "(100, 200)\n"
     ]
    }
   ],
   "source": [
    "print pred_image[0].shape\n",
    "print original_image[0].shape"
   ]
  },
  {
   "cell_type": "code",
   "execution_count": 19,
   "metadata": {
    "collapsed": false
   },
   "outputs": [
    {
     "name": "stdout",
     "output_type": "stream",
     "text": [
      "(125, 100, 200)\n"
     ]
    }
   ],
   "source": [
    "error_image = abs(original_image - pred_image)\n",
    "print error_image.shape"
   ]
  },
  {
   "cell_type": "code",
   "execution_count": 20,
   "metadata": {
    "collapsed": false
   },
   "outputs": [
    {
     "name": "stderr",
     "output_type": "stream",
     "text": [
      "/home/sourav/anaconda/lib/python2.7/site-packages/matplotlib/pyplot.py:424: RuntimeWarning: More than 20 figures have been opened. Figures created through the pyplot interface (`matplotlib.pyplot.figure`) are retained until explicitly closed and may consume too much memory. (To control this warning, see the rcParam `figure.max_open_warning`).\n",
      "  max_open_warning, RuntimeWarning)\n"
     ]
    }
   ],
   "source": [
    "for i in range(y_pred_size):\n",
    "    fig = plt.figure()\n",
    "    a = fig.add_subplot(1,3,1)\n",
    "    orig = plt.imshow(original_image[i], cmap = cm.Greys_r)\n",
    "    a.set_title('Orig')\n",
    "    a = fig.add_subplot(1,3,2)\n",
    "    pred = plt.imshow(pred_image[i], cmap = cm.Greys_r)\n",
    "    a.set_title('Pred')\n",
    "    a = fig.add_subplot(1,3,3)\n",
    "    pred = plt.imshow(error_image[i], cmap = cm.Greys_r)\n",
    "    a.set_title('Error')\n",
    "    #plt.show()\n",
    "    fig.savefig('output_images_all_x1y1/output_'+str(i+1)+'.jpg')\n",
    "    fig.clear()"
   ]
  },
  {
   "cell_type": "code",
   "execution_count": null,
   "metadata": {
    "collapsed": true
   },
   "outputs": [],
   "source": []
  }
 ],
 "metadata": {
  "kernelspec": {
   "display_name": "Python 2",
   "language": "python",
   "name": "python2"
  },
  "language_info": {
   "codemirror_mode": {
    "name": "ipython",
    "version": 2
   },
   "file_extension": ".py",
   "mimetype": "text/x-python",
   "name": "python",
   "nbconvert_exporter": "python",
   "pygments_lexer": "ipython2",
   "version": "2.7.10"
  }
 },
 "nbformat": 4,
 "nbformat_minor": 0
}
