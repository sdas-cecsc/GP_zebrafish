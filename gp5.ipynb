{
 "cells": [
  {
   "cell_type": "code",
   "execution_count": 1,
   "metadata": {
    "collapsed": true
   },
   "outputs": [],
   "source": [
    "import numpy as np\n",
    "from scipy import ndimage\n",
    "from sklearn import preprocessing\n",
    "from sklearn import decomposition\n",
    "from sklearn import gaussian_process\n",
    "from sklearn.cross_validation import cross_val_score, KFold, train_test_split\n",
    "from sklearn.metrics import mean_squared_error\n",
    "import matplotlib.pyplot as plt\n",
    "import matplotlib.cm as cm\n",
    "from itertools import izip\n",
    "import csv"
   ]
  },
  {
   "cell_type": "code",
   "execution_count": 2,
   "metadata": {
    "collapsed": false
   },
   "outputs": [],
   "source": [
    "n_dependencies = 2\n",
    "num_images = 319\n",
    "images = np.empty([1,20000])"
   ]
  },
  {
   "cell_type": "code",
   "execution_count": 3,
   "metadata": {
    "collapsed": false
   },
   "outputs": [
    {
     "name": "stdout",
     "output_type": "stream",
     "text": [
      "(319L, 20000L)\n",
      "0.0\n",
      "255.0\n"
     ]
    }
   ],
   "source": [
    "for i in range(1,num_images+1):\n",
    "    filename = \"gray_images_all/image\" + str(i) + \".jpg\"\n",
    "    img = ndimage.imread(filename)\n",
    "    if (i == 1):\n",
    "        images = img.flatten()\n",
    "    else:\n",
    "        images = np.vstack((images, img.flatten()))\n",
    "        \n",
    "images = images.astype(float)\n",
    "print images.shape\n",
    "print images.min()\n",
    "print images.max()"
   ]
  },
  {
   "cell_type": "code",
   "execution_count": 4,
   "metadata": {
    "collapsed": false
   },
   "outputs": [
    {
     "name": "stdout",
     "output_type": "stream",
     "text": [
      "(319L, 20000L)\n",
      "-17.8325545001\n",
      "17.8325545001\n"
     ]
    }
   ],
   "source": [
    "scaler = preprocessing.StandardScaler().fit(images)\n",
    "images_scaled = scaler.transform(images)\n",
    "print images_scaled.shape\n",
    "print images_scaled.min()\n",
    "print images_scaled.max()"
   ]
  },
  {
   "cell_type": "code",
   "execution_count": 5,
   "metadata": {
    "collapsed": false
   },
   "outputs": [],
   "source": [
    "thresh_components = 10\n",
    "n_components = thresh_components\n",
    "while(True):\n",
    "    pca0 = decomposition.PCA(n_components=n_components)\n",
    "    pca0.fit(images_scaled)\n",
    "    if pca0.explained_variance_ratio_.sum() > 0.9:\n",
    "        break\n",
    "    n_components += thresh_components"
   ]
  },
  {
   "cell_type": "code",
   "execution_count": 6,
   "metadata": {
    "collapsed": false
   },
   "outputs": [
    {
     "name": "stdout",
     "output_type": "stream",
     "text": [
      "(319L, 100L)\n",
      "-102.788361097\n",
      "202.391869066\n"
     ]
    }
   ],
   "source": [
    "pca = decomposition.PCA(n_components=n_components)\n",
    "pca.fit(images_scaled)\n",
    "data = pca.transform(images_scaled)\n",
    "print data.shape\n",
    "print data.min()\n",
    "print data.max()"
   ]
  },
  {
   "cell_type": "code",
   "execution_count": 7,
   "metadata": {
    "collapsed": false
   },
   "outputs": [
    {
     "name": "stdout",
     "output_type": "stream",
     "text": [
      "100\n",
      "0.902236779604\n"
     ]
    }
   ],
   "source": [
    "print n_components\n",
    "print pca.explained_variance_ratio_.sum()"
   ]
  },
  {
   "cell_type": "code",
   "execution_count": 8,
   "metadata": {
    "collapsed": true
   },
   "outputs": [],
   "source": [
    "for i in range(len(data)-n_dependencies):\n",
    "    newrow = []\n",
    "    for j in range(n_dependencies):\n",
    "        newrow = np.hstack((newrow, data[i+j]))\n",
    "    if (i == 0):\n",
    "        X = newrow\n",
    "    else:\n",
    "        X = np.vstack((X, newrow))"
   ]
  },
  {
   "cell_type": "code",
   "execution_count": 9,
   "metadata": {
    "collapsed": false
   },
   "outputs": [
    {
     "name": "stdout",
     "output_type": "stream",
     "text": [
      "X : (317L, 200L)\n",
      "y : (317L, 100L)\n"
     ]
    }
   ],
   "source": [
    "print 'X :',X.shape\n",
    "ylist = []\n",
    "for i in range(n_dependencies,len(data)):\n",
    "    ylist.append(data[i])\n",
    "y = np.asarray(ylist)\n",
    "print 'y :', y.shape"
   ]
  },
  {
   "cell_type": "code",
   "execution_count": 10,
   "metadata": {
    "collapsed": false
   },
   "outputs": [
    {
     "name": "stdout",
     "output_type": "stream",
     "text": [
      "(190L, 200L)\n",
      "(190L, 100L)\n",
      "(127L, 200L)\n",
      "(127L, 100L)\n"
     ]
    }
   ],
   "source": [
    "#X_train, X_test, y_train, y_test = train_test_split(X, y, test_size=0.4,random_state=0)\n",
    "test_size = 0.4\n",
    "if X.shape[0] == y.shape[0]:\n",
    "    split = int(round((1-test_size)*X.shape[0]))\n",
    "    X_train, X_test = X[:split], X[split:X.shape[0]]\n",
    "    y_train, y_test = y[:split], y[split:y.shape[0]]\n",
    "    print X_train.shape\n",
    "    print y_train.shape\n",
    "    print X_test.shape\n",
    "    print y_test.shape\n",
    "else:\n",
    "    print 'X, y shapes do not match'"
   ]
  },
  {
   "cell_type": "code",
   "execution_count": 11,
   "metadata": {
    "collapsed": false
   },
   "outputs": [
    {
     "data": {
      "text/plain": [
       "GaussianProcess(beta0=None,\n",
       "        corr=<function squared_exponential at 0x0000000015DAEEB8>,\n",
       "        normalize=True, nugget=array(2.220446049250313e-15),\n",
       "        optimizer='fmin_cobyla', random_start=1,\n",
       "        random_state=<mtrand.RandomState object at 0x0000000003AF3B70>,\n",
       "        regr=<function constant at 0x0000000015DAEAC8>,\n",
       "        storage_mode='full', theta0=array([[ 0.02]]),\n",
       "        thetaL=array([[ 0.0001]]), thetaU=array([[ 0.1]]), verbose=False)"
      ]
     },
     "execution_count": 11,
     "metadata": {},
     "output_type": "execute_result"
    }
   ],
   "source": [
    "gp = gaussian_process.GaussianProcess(regr='constant',\n",
    "                                      corr='squared_exponential',\n",
    "                                      theta0=2e-2,\n",
    "                                      thetaL=1e-4,\n",
    "                                      thetaU=1e-1)\n",
    "gp.fit(X_train, y_train)"
   ]
  },
  {
   "cell_type": "code",
   "execution_count": 12,
   "metadata": {
    "collapsed": false
   },
   "outputs": [
    {
     "name": "stdout",
     "output_type": "stream",
     "text": [
      "(200L,)\n",
      "(100L,)\n"
     ]
    }
   ],
   "source": [
    "print X_test[0].shape\n",
    "print X_test[0][:pca.n_components_].shape"
   ]
  },
  {
   "cell_type": "code",
   "execution_count": 13,
   "metadata": {
    "collapsed": false
   },
   "outputs": [
    {
     "name": "stdout",
     "output_type": "stream",
     "text": [
      "(125L, 100L)\n",
      "(127L, 100L)\n"
     ]
    }
   ],
   "source": [
    "y_pred_list=[]\n",
    "sigma = []\n",
    "\n",
    "for i in range(len(X_test)-n_dependencies):\n",
    "    if(i == 0):\n",
    "        X_test_sample = X_test[0]\n",
    "    else:\n",
    "        end = (n_dependencies-1)*pca.n_components_\n",
    "        X_test_sample = np.hstack((X_test[i][:end], y_test_pred[0]))\n",
    "    y_test_pred, mse_pred = gp.predict(X_test_sample, eval_MSE=True)\n",
    "    y_pred_list.append(y_test_pred[0])\n",
    "    sigma.append(np.sqrt(mse_pred))\n",
    "\n",
    "y_pred = np.asarray(y_pred_list)\n",
    "y_pred_size = y_pred.shape[0]\n",
    "print y_pred.shape\n",
    "print y_test.shape"
   ]
  },
  {
   "cell_type": "code",
   "execution_count": 14,
   "metadata": {
    "collapsed": false
   },
   "outputs": [
    {
     "name": "stdout",
     "output_type": "stream",
     "text": [
      "(125L, 20000L)\n",
      "(127L, 20000L)\n"
     ]
    }
   ],
   "source": [
    "inv_y_pred = pca.inverse_transform(y_pred)\n",
    "print inv_y_pred.shape\n",
    "inv_y_test = pca.inverse_transform(y_test)\n",
    "print inv_y_test.shape"
   ]
  },
  {
   "cell_type": "code",
   "execution_count": 15,
   "metadata": {
    "collapsed": false
   },
   "outputs": [
    {
     "name": "stdout",
     "output_type": "stream",
     "text": [
      "(125L, 20000L)\n",
      "(125L, 20000L)\n"
     ]
    }
   ],
   "source": [
    "transformed_y_pred = scaler.inverse_transform(inv_y_pred)\n",
    "original_y_test = scaler.inverse_transform(inv_y_test[n_dependencies:])\n",
    "print transformed_y_pred.shape\n",
    "print original_y_test.shape"
   ]
  },
  {
   "cell_type": "code",
   "execution_count": 16,
   "metadata": {
    "collapsed": false
   },
   "outputs": [
    {
     "name": "stdout",
     "output_type": "stream",
     "text": [
      "inverted : -2.24682706503 4.45862238429\n",
      "transformed : -3.79035777517 256.919916037\n"
     ]
    }
   ],
   "source": [
    "print 'inverted :', inv_y_pred[0].min(), inv_y_pred[0].max()\n",
    "print 'transformed :', transformed_y_pred[0].min(), transformed_y_pred[0].max()"
   ]
  },
  {
   "cell_type": "code",
   "execution_count": 17,
   "metadata": {
    "collapsed": false
   },
   "outputs": [],
   "source": [
    "pred_images = transformed_y_pred.reshape((y_pred_size, 100, 200))\n",
    "#original_image = original_y_test.reshape((y_pred_size, 100, 200))\n",
    "original_images = images[-y_pred_size:].reshape((y_pred_size, 100, 200))"
   ]
  },
  {
   "cell_type": "code",
   "execution_count": 18,
   "metadata": {
    "collapsed": false
   },
   "outputs": [
    {
     "name": "stdout",
     "output_type": "stream",
     "text": [
      "(100L, 200L)\n",
      "(100L, 200L)\n"
     ]
    }
   ],
   "source": [
    "print pred_images[0].shape\n",
    "print original_images[0].shape"
   ]
  },
  {
   "cell_type": "code",
   "execution_count": 19,
   "metadata": {
    "collapsed": false
   },
   "outputs": [
    {
     "name": "stdout",
     "output_type": "stream",
     "text": [
      "(125L, 1L)\n",
      "dependecies : 2\n",
      "min rmse_lds: 2.5878767321\n",
      "max rmse_lds: 12.8153381633\n",
      "mean rmse_lds: 9.75738999601\n"
     ]
    }
   ],
   "source": [
    "rmse_lds = np.asarray(sigma)\n",
    "print rmse_lds.shape\n",
    "print 'dependecies :', n_dependencies\n",
    "print 'min rmse_lds:', rmse_lds.min()\n",
    "print 'max rmse_lds:', rmse_lds.max()\n",
    "print 'mean rmse_lds:', rmse_lds.mean()"
   ]
  },
  {
   "cell_type": "code",
   "execution_count": 25,
   "metadata": {
    "collapsed": false
   },
   "outputs": [
    {
     "name": "stdout",
     "output_type": "stream",
     "text": [
      "output images : 0.0 255.0\n",
      "original images : 0.0 255.0\n"
     ]
    }
   ],
   "source": [
    "mmscalar = preprocessing.MinMaxScaler((0,255))\n",
    "images = []\n",
    "for pred_img in pred_images:\n",
    "    images.append(mmscalar.fit_transform(pred_img))\n",
    "output_images = np.asarray(images).reshape((y_pred_size, 100, 200))\n",
    "print 'output images :', output_images.min(), output_images.max()\n",
    "print 'original images :', original_images.min(), original_images.max()"
   ]
  },
  {
   "cell_type": "code",
   "execution_count": 26,
   "metadata": {
    "collapsed": false
   },
   "outputs": [
    {
     "name": "stdout",
     "output_type": "stream",
     "text": [
      "(125L,)\n",
      "dependecies : 2\n",
      "min rmse_hds: 47.5880840043\n",
      "max rmse_hds: 82.7111174207\n",
      "mean rmse_hds: 71.2188655256\n"
     ]
    }
   ],
   "source": [
    "rmse_hds_list = []\n",
    "for pred_img, orig_img in izip(output_images, original_images):\n",
    "    rmse_hds_list.append(mean_squared_error(orig_img, pred_img)**0.5)\n",
    "rmse_hds = np.asarray(rmse_hds_list)\n",
    "print rmse_hds.shape\n",
    "print 'dependecies :', n_dependencies\n",
    "print 'min rmse_hds:', rmse_hds.min()\n",
    "print 'max rmse_hds:', rmse_hds.max()\n",
    "print 'mean rmse_hds:', rmse_hds.mean()"
   ]
  },
  {
   "cell_type": "code",
   "execution_count": null,
   "metadata": {
    "collapsed": true
   },
   "outputs": [],
   "source": [
    "info = [n_dependencies, rmse.min(), rmse.max(), rmse.mean()]\n",
    "with open('rmse_info.csv','a') as csvfile:\n",
    "    csvwriter = csv.writer(csvfile, delimiter=',')\n",
    "    csvwriter.writerow(info)"
   ]
  },
  {
   "cell_type": "code",
   "execution_count": null,
   "metadata": {
    "collapsed": true
   },
   "outputs": [],
   "source": []
  }
 ],
 "metadata": {
  "kernelspec": {
   "display_name": "Python 2",
   "language": "python",
   "name": "python2"
  },
  "language_info": {
   "codemirror_mode": {
    "name": "ipython",
    "version": 2
   },
   "file_extension": ".py",
   "mimetype": "text/x-python",
   "name": "python",
   "nbconvert_exporter": "python",
   "pygments_lexer": "ipython2",
   "version": "2.7.10"
  }
 },
 "nbformat": 4,
 "nbformat_minor": 0
}
